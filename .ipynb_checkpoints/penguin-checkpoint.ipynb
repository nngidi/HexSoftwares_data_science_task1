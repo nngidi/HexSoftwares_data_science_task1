{
 "cells": [
  {
   "cell_type": "code",
   "execution_count": null,
   "metadata": {},
   "outputs": [],
   "source": [
    "# Load the .R data file in R\n",
    "load(\"penguins.R\")\n",
    "\n",
    "# Write the data frame to a CSV file (assuming the data frame is named `penguins`)\n",
    "write.csv(penguins, \"penguins.csv\", row.names = FALSE)\n"
   ]
  }
 ],
 "metadata": {
  "language_info": {
   "name": "python"
  }
 },
 "nbformat": 4,
 "nbformat_minor": 2
}
